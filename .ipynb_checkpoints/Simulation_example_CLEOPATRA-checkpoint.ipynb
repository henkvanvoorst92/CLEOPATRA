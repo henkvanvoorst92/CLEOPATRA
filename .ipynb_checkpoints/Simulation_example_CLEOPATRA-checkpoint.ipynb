{
 "cells": [
  {
   "cell_type": "code",
   "execution_count": 1,
   "metadata": {},
   "outputs": [],
   "source": [
    "#Simulation manual:\n",
    "# Initalize the following objects:\n",
    "    #CPG: Uses OR for EVT and EVT*core_vol to generate noEVT arm from EVT arm\n",
    "    #M: Simulates mRS, age, and sex related mortality in the long run\n",
    "    #RS: Simulates mRS, years since index stroke, and age related mRS decay due to recurrent stroke\n",
    "    #C: Contains and computes costs per mRS per follow-up year, and costs of intial treatment/diagnostics\n",
    "    #Q: Contains and computes QALYs per mRS per follow-up year\n",
    "    #Sim: Combines the above objects in a simulator that runs simulations when called\n",
    "    #df: Observed 90d mRS and baseline variables of all patients in EVT arm\n",
    "#Baseline simulation:\n",
    "    #Select IDs and pass df to run simulate_IDs -->\n",
    "    #returns totals_res, extend_res\n",
    "    #Running cohort_outcome_per_threshold will \n",
    "    #return:\n",
    "        #out: NMB, d_costs, d_qalys per ID\n",
    "        #aggr: average ICER, NMB, d_costs, d_qalys between strategies over the baseline cohort\n",
    "#Probabilistic sensitivity:\n",
    "    #Run probabilistic_simulation with predefined cohort size and number of resamples\n",
    "    #also returns totals_res, extend_res but concatenated over all simulations (N_resamples)\n",
    "    #Run probabilistic_cohort_outcomes_per_threshold\n",
    "    #also returns per simulation average ICER, NMB, d_costs, d_qalys\n",
    " "
   ]
  },
  {
   "cell_type": "code",
   "execution_count": 74,
   "metadata": {},
   "outputs": [
    {
     "name": "stdout",
     "output_type": "stream",
     "text": [
      "(705, 25)\n"
     ]
    }
   ],
   "source": [
    "import pandas as pd\n",
    "import numpy as np\n",
    "import os,sys\n",
    "sys.path.append(r'\\path\\to\\dir')\n",
    "#usefull functions for processing data\n",
    "from Utils.utils import *\n",
    "#Objects to initialize for simulations\n",
    "from Model.Simulate import ControlPatientGeneration, Simulate\n",
    "from Model.Mortality import Mortality\n",
    "from Model.RecurrentStroke import RecurrentStroke\n",
    "from Model.Utilities import Costs, QALYs\n",
    "#standard simulation functions\n",
    "from Utils.Experiment import probabilistic_simulation, get_patient_dct, simulate_IDs\n",
    "#extended analyses functions\n",
    "from Utils.Experiment import OR_shift_psa, subgroup_psa, M2_miss_psa\n",
    "from Utils.Outcomes import cohort_outcome\n",
    "from Utils.Outcomes import probabilistic_cohort_outcomes\n",
    "import warnings\n",
    "warnings.filterwarnings('ignore')\n",
    "\n",
    "\n",
    "p_inputs = r'\\model_inputs'\n",
    "\n",
    "root_sav = r'' #define\n",
    "root_fig = r'' #define\n",
    "p_mort_file = os.path.join(p_inputs, 'Forecasted_mortality.xlsx')\n",
    "p_HR_file = os.path.join(p_inputs, 'Stroke_recurrence.xlsx')\n",
    "p_cost_file = os.path.join(p_inputs, 'Costs.xlsx')\n",
    "p_qaly_file = os.path.join(p_inputs, 'QALYs.xlsx')\n",
    "p_nums_mrs = os.path.join(p_inputs,'mRS_evt_noevt_core_vol.xlsx')\n",
    "p_OR = os.path.join(p_inputs,'OR_mrcleantrial.xlsx')\n",
    "\n",
    "CPG = ControlPatientGeneration(\n",
    "                                p_OR,\n",
    "                                p_nums_mrs,\n",
    "                                verbal=False\n",
    "                                )\n",
    "\n",
    "M = Mortality(\n",
    "              p_mort_file = p_mort_file, \n",
    "              HR_mrs = np.array([1.54,2.17,3.18,4.55,6.55]),\n",
    "              years = np.arange(2021,2035)\n",
    "                )\n",
    "\n",
    "RS = RecurrentStroke(\n",
    "                    file_p_HR = p_HR_file,\n",
    "                    p_mrs_postrestroke = np.array([11/233, 21/233,18/233,22/233,6/233])\n",
    "                    )\n",
    "\n",
    "#inflation 2015-2022 to get costs for start reference year 2023\n",
    "infl_py = [0.6,0.3,1.4,1.7,2.6,1.3,9]\n",
    "start_infl = np.prod(np.array([1+i/100 for i in infl_py]))\n",
    "\n",
    "C = Costs(\n",
    "         file=p_cost_file,\n",
    "         costs_IVT=950.82, costs_CTP=251.4, costs_EVT=9924.5,\n",
    "         start_inflation=start_infl, # inflation factor before simulation (2015 -> 2022)\n",
    "         discounting_rate=1.04,\n",
    "         inflation_rate=1.017 #future inflation rate\n",
    "            )\n",
    "\n",
    "Q = QALYs(\n",
    "        file = p_qaly_file,\n",
    "        discounting_rate=1.015\n",
    "        )\n",
    "\n",
    "#PM:\n",
    "# MR CLEAN trial: OR=1.86(CI:1.34-2.59) --> #OR: 1.67; 95% CI, 1.21 to 2.30\n",
    "# n_evt=233: n_mrs<3 = 33% - 77, n_mrs>2=67% - 156\n",
    "# n_noevt=267: n_mrs<3 = 19% - 52, n_mrs>2=80% - 214\n",
    "\n",
    "# HERMES CTP: OR=2.520(CI:1.483-4.283)\n",
    "# n_evt=289: n_mrs<3 = 136, n_mrs>2: 15\n",
    "\n",
    "Sim = Simulate(CPG,M,RS,C,Q,5,2023,verbal=False)\n",
    "\n",
    "df = pd.read_excel(r'/imputed_patient_level_data')\n",
    "df.ivt_given = df.ivt_given-1\n",
    "df.index = df.IDs\n",
    "df['bl_occloc'] = df['bl_occloc'].replace(3,'M1').replace(2,'ICA-T').replace(4,'M2').replace(1,'ICA')\n",
    "df['age_groups'] = pd.cut(df.r_age,bins=[0,50,60,70,80,1000])\n",
    "df['otg_groups'] = pd.cut(df.t_otg,bins=[0,120,180,240,300,1000])\n",
    "df.ivt_given = df.ivt_given-1\n",
    "df.index = df.IDs\n",
    "bl_cols = ['core_vol', 'penumbra_vol', 'mm_ratio', \n",
    "       'r_age', 'bl_nihss_sum', 't_otg','r_sex',\n",
    "        'bl_collaterals','bl_hist_premrs','iat_post_etici',\n",
    "        'age_groups','otg_groups']\n",
    "BL = df[bl_cols]\n",
    "bl_dct = BL.to_dict(orient='index')\n",
    "print(df.shape)"
   ]
  },
  {
   "cell_type": "code",
   "execution_count": 6,
   "metadata": {},
   "outputs": [
    {
     "name": "stderr",
     "output_type": "stream",
     "text": [
      "100%|████████████████████████████████████████████████████████████████████████████████| 705/705 [00:07<00:00, 94.48it/s]\n"
     ]
    }
   ],
   "source": [
    "#baseline simulations\n",
    "#Sim.verbal = True\n",
    "totals_res, extend_res = simulate_IDs(df.index,df,Sim)\n",
    "#add clinical basline info for plots\n",
    "totals_res = pd.concat([totals_res,BL],axis=1)\n",
    "#aggr contains average results in NMB, ICER, d_costs,d_qalys\n",
    "# of the cohort per different decision threshold\n",
    "out,aggr = cohort_outcome(totals_res,\n",
    "                        thresholds=np.arange(0,151,10), \n",
    "                        costs_per_ctp=0, #used for miss rate sim\n",
    "                        multiply_ctp_costs = 0,#used for miss rate sim -->perform only on M2\n",
    "                        miss_percentage = [0],#used for miss rate sim\n",
    "                        WTP=80000)\n",
    "#totals_res.to_excel(os.path.join(root_sav,'Baseline','results.xlsx'))\n",
    "#extend_res.to_excel(os.path.join(root_sav,'Baseline','simulation_output.xlsx'))\n",
    "\n",
    "#probabilistic standard simulation --> not required since included in OR shift analyses (shift=0)\n",
    "#extract per patient,strategy, and simulation the results\n",
    "totals_res, extend_res = probabilistic_simulation(Sim,df,10,100)\n",
    "#compute difference between arms (PSA computes cohort outcomes per simulation)\n",
    "outs, aggrs = probabilistic_cohort_outcomes(totals_res,\n",
    "                                            bl_dct,\n",
    "                                            thresholds=np.arange(0,151,10),\n",
    "                                            costs_per_ctp=0,\n",
    "                                            multiply_ctp_costs = 0,\n",
    "                                            miss_percentage = [0],\n",
    "                                            WTP=80000)"
   ]
  },
  {
   "cell_type": "code",
   "execution_count": 75,
   "metadata": {},
   "outputs": [
    {
     "name": "stderr",
     "output_type": "stream",
     "text": [
      "100%|██████████████████████████████████████████████████████████████████████████████████| 10/10 [00:11<00:00,  1.12s/it]\n"
     ]
    }
   ],
   "source": [
    "#probabilistic baseline simulation --> not required since included in OR shift analyses (shift=0)\n",
    "#extract per patient,strategy, and simulation the results\n",
    "totals_res, extend_res = probabilistic_simulation(Sim,df,10,100)\n",
    "#compute difference between arms (PSA computes cohort outcomes per simulation)\n",
    "outs, aggrs = probabilistic_cohort_outcomes(totals_res,\n",
    "                                            bl_dct,\n",
    "                                            thresholds=np.arange(0,151,10),\n",
    "                                            costs_per_ctp=0,\n",
    "                                            multiply_ctp_costs = 0,\n",
    "                                            miss_percentage = [0],\n",
    "                                            WTP=80000)"
   ]
  },
  {
   "cell_type": "code",
   "execution_count": null,
   "metadata": {},
   "outputs": [],
   "source": [
    "#Simulates a set of PSAs with different OR values (saves when running)\n",
    "root_sav = r'\\results\\PSA\\shift_OR'\n",
    "#baseline PSA is included when shift is set to zero\n",
    "OR_evt_shifts = [-.1,0] #[-.3,-.2,-.1,0,.1]\n",
    "OR_evt_corevol_shifts = [-.05,0] #[-.2,-.15,-.1,-.05,0]\n",
    "ext_res, aggr_res = OR_shift_psa(df,\n",
    "             OR_evt_shifts,\n",
    "             OR_evt_corevol_shifts,\n",
    "             Sim,\n",
    "             N_resamples=10, #10,000 in protocol --> use 1,000\n",
    "             N_patients_per_cohort=10, #100 pt in protocol\n",
    "             thresholds=np.arange(0,151,10),\n",
    "             seed=21)\n",
    "if not os.path.exists(root_sav):\n",
    "    os.makedirs(root_sav)\n",
    "    \n",
    "aggr_res.to_excel(os.path.join(root_sav,'aggregated_psa_res.xlsx'))\n",
    "ext_res.to_excel(os.path.join(root_sav,'extended_psa_res.xlsx'))\n"
   ]
  },
  {
   "cell_type": "code",
   "execution_count": 18,
   "metadata": {},
   "outputs": [
    {
     "data": {
      "text/plain": [
       "'(70, 80]'"
      ]
     },
     "execution_count": 18,
     "metadata": {},
     "output_type": "execute_result"
    }
   ],
   "source": [
    "#probabilistic subgroup analyses\n",
    "sgroup_res = subgroup_psa(df,\n",
    "             col_subgroup,\n",
    "             Sim,\n",
    "             N_resamples,\n",
    "             N_patients_per_cohort,\n",
    "             thresholds=np.arange(0,151,10),\n",
    "             costs_per_ctp=0,\n",
    "             multiply_ctp_costs=0,\n",
    "             miss_percentage=[0],\n",
    "             seed=21)"
   ]
  },
  {
   "cell_type": "code",
   "execution_count": null,
   "metadata": {},
   "outputs": [],
   "source": []
  }
 ],
 "metadata": {
  "kernelspec": {
   "display_name": "Python 3 (ipykernel)",
   "language": "python",
   "name": "python3"
  },
  "language_info": {
   "codemirror_mode": {
    "name": "ipython",
    "version": 3
   },
   "file_extension": ".py",
   "mimetype": "text/x-python",
   "name": "python",
   "nbconvert_exporter": "python",
   "pygments_lexer": "ipython3",
   "version": "3.9.7"
  }
 },
 "nbformat": 4,
 "nbformat_minor": 2
}
