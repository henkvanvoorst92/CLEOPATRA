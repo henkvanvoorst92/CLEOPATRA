{
 "cells": [
  {
   "cell_type": "code",
   "execution_count": 6,
   "metadata": {},
   "outputs": [],
   "source": [
    "import pandas as pd\n",
    "import numpy as np\n",
    "import os,sys\n",
    "from Utils.utils import *\n",
    "from Utils.mRS_computation import *\n",
    "from Model.Decision import *\n",
    "from Model.Mortality import Mortality\n",
    "from Model.RecurrentStroke import RecurrentStroke\n",
    "\n",
    "p_mort_file = r'C:\\Users\\henkvanvoorst\\Dropbox\\CLEOPATRA\\model_inputs\\Forecasted_mortality.xlsx'\n",
    "p_HR_file = r'C:\\Users\\henkvanvoorst\\Dropbox\\CLEOPATRA\\model_inputs\\Stroke_recurrence.xlsx'\n",
    "\n",
    "M = Mortality(p_mort_file)\n",
    "RS = RecurrentStroke(p_HR_file)"
   ]
  },
  {
   "cell_type": "code",
   "execution_count": 2,
   "metadata": {},
   "outputs": [
    {
     "data": {
      "text/plain": [
       "noEVT_mRS_0    7.251547\n",
       "noEVT_mRS_1    6.238354\n",
       "noEVT_mRS_2    5.915149\n",
       "noEVT_mRS_3    7.634369\n",
       "noEVT_mRS_4    8.375770\n",
       "noEVT_mRS_5    7.154532\n",
       "noEVT_mRS_6    5.430280\n",
       "dtype: float64"
      ]
     },
     "execution_count": 2,
     "metadata": {},
     "output_type": "execute_result"
    }
   ],
   "source": [
    "#1 model the decision\n",
    "# n_patients with characteristics\n",
    "np.random.seed(2)\n",
    "fake_dta = np.vstack([np.arange(100),\n",
    "                      np.random.randint(0,150,size=100),\n",
    "                      np.random.randint(50,80,size=100),\n",
    "                      np.random.randint(0,7,size=100),\n",
    "                     ]).T\n",
    "df = pd.DataFrame(fake_dta,columns=['ID','core_vol','age','mRS'])\n",
    "df['EVT*core_vol'] = df['core_vol']/10\n",
    "df['EVT'] = 1\n",
    "df.index = df['ID']\n",
    "    \n",
    "# dictionary with ORs\n",
    "ORs = {'EVT':2.52, 'EVT*core_vol':0.98}\n",
    "input_dist = get_mRS_EVT_noEVT(df,ORs)\n",
    "# define how patients are selected\n",
    "ID_treat_select = df[df['core_vol']<=70].index\n",
    "\n",
    "n_evt = len(ID_treat_select)\n",
    "n_noevt = len(df)-len(ID_treat_select)\n",
    "\n",
    "#compute 90d outcome\n",
    "mrs_ctp_evt, mrs_ctp_noevt, select_EVT, exclude_EVT = mRS_90d_2arms(input_dist,ID_treat_select)\n",
    "mrs_contr, __, select_EVT, __ = mRS_90d_2arms(input_dist,df.index)\n",
    "\n",
    "#baseline vars: age, gender\n",
    "mrs_ctp_noevt"
   ]
  },
  {
   "cell_type": "code",
   "execution_count": 5,
   "metadata": {},
   "outputs": [],
   "source": [
    "\n",
    "mrs = np.array([0,0,.7,.2,0,.1])\n",
    "new_mrs, p_mort = M('M',2025,70,mrs)\n",
    "new_mrs, p_restroke = RS(1,70,new_mrs)"
   ]
  },
  {
   "cell_type": "code",
   "execution_count": 210,
   "metadata": {},
   "outputs": [
    {
     "data": {
      "text/plain": [
       "0.0397432078064"
      ]
     },
     "execution_count": 210,
     "metadata": {},
     "output_type": "execute_result"
    }
   ],
   "source": [
    "# simulate long term FU #pm simulate as one class (short and long)\n",
    "class SimulateLongTerm(object):\n",
    "    \"\"\"\n",
    "    Inputs:\n",
    "        M: class initialized for mortality simulation\n",
    "        RS: class initialized for recurrent stroke simulation\n",
    "        C: class initialized to compute costs\n",
    "        Q: class initialized to compute QALYs\n",
    "        \n",
    "    Returns:\n",
    "        Result over the simulated follow up period as \n",
    "        np.array with columns: [orgID,uniqueID,year,\n",
    "                                mRS01,mRS2,mRS3,mRS4,mRS5,mRS6,\n",
    "                                costs,QALYs,NMB] #pm no outcomes\n",
    "    \"\"\"\n",
    "    \n",
    "    def __init__(self, \n",
    "                 years_to_simulate,\n",
    "                 M,RS,WTP=None,\n",
    "                ):"
   ]
  },
  {
   "cell_type": "code",
   "execution_count": 196,
   "metadata": {},
   "outputs": [
    {
     "name": "stdout",
     "output_type": "stream",
     "text": [
      "2\n",
      "[0.         0.         0.23076923 0.28205128 0.07692308]\n",
      "[0.         0.         0.27391304 0.33478261 0.09130435]\n",
      "3\n",
      "[0.         0.         0.         0.28205128 0.07692308]\n",
      "[0.         0.         0.27391304 0.49192547 0.13416149]\n"
     ]
    }
   ],
   "source": []
  },
  {
   "cell_type": "code",
   "execution_count": null,
   "metadata": {},
   "outputs": [],
   "source": []
  }
 ],
 "metadata": {
  "kernelspec": {
   "display_name": "Python 3",
   "language": "python",
   "name": "python3"
  },
  "language_info": {
   "codemirror_mode": {
    "name": "ipython",
    "version": 3
   },
   "file_extension": ".py",
   "mimetype": "text/x-python",
   "name": "python",
   "nbconvert_exporter": "python",
   "pygments_lexer": "ipython3",
   "version": "3.7.3"
  }
 },
 "nbformat": 4,
 "nbformat_minor": 2
}
