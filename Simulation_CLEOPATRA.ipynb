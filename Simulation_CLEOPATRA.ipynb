{
 "cells": [
  {
   "cell_type": "code",
   "execution_count": 31,
   "metadata": {},
   "outputs": [
    {
     "ename": "FileNotFoundError",
     "evalue": "[Errno 2] No such file or directory: 'C:Users\\\\hvanvoorst\\\\Dropbox\\\\CLEOPATRA\\\\CLEOPATRA\\\\model_inputs\\\\Forecasted_mortality.xlsx'",
     "output_type": "error",
     "traceback": [
      "\u001b[1;31m---------------------------------------------------------------------------\u001b[0m",
      "\u001b[1;31mFileNotFoundError\u001b[0m                         Traceback (most recent call last)",
      "\u001b[1;32mC:\\Users\\HVANVO~1\\AppData\\Local\\Temp/ipykernel_29392/3524310223.py\u001b[0m in \u001b[0;36m<module>\u001b[1;34m\u001b[0m\n\u001b[0;32m     18\u001b[0m \u001b[1;33m\u001b[0m\u001b[0m\n\u001b[0;32m     19\u001b[0m \u001b[1;33m\u001b[0m\u001b[0m\n\u001b[1;32m---> 20\u001b[1;33m M = Mortality(\n\u001b[0m\u001b[0;32m     21\u001b[0m               \u001b[0mp_mort_file\u001b[0m \u001b[1;33m=\u001b[0m \u001b[0mp_mort_file\u001b[0m\u001b[1;33m,\u001b[0m\u001b[1;33m\u001b[0m\u001b[1;33m\u001b[0m\u001b[0m\n\u001b[0;32m     22\u001b[0m               \u001b[0mHR_mrs\u001b[0m \u001b[1;33m=\u001b[0m \u001b[0mnp\u001b[0m\u001b[1;33m.\u001b[0m\u001b[0marray\u001b[0m\u001b[1;33m(\u001b[0m\u001b[1;33m[\u001b[0m\u001b[1;36m1.54\u001b[0m\u001b[1;33m,\u001b[0m\u001b[1;36m2.17\u001b[0m\u001b[1;33m,\u001b[0m\u001b[1;36m3.18\u001b[0m\u001b[1;33m,\u001b[0m\u001b[1;36m4.55\u001b[0m\u001b[1;33m,\u001b[0m\u001b[1;36m6.55\u001b[0m\u001b[1;33m]\u001b[0m\u001b[1;33m)\u001b[0m\u001b[1;33m,\u001b[0m\u001b[1;33m\u001b[0m\u001b[1;33m\u001b[0m\u001b[0m\n",
      "\u001b[1;32m~\\PhD\\git_repos\\CLEOPATRA\\Model\\Mortality.py\u001b[0m in \u001b[0;36m__init__\u001b[1;34m(self, p_mort_file, HR_mrs, delta_HR_mrs, years)\u001b[0m\n\u001b[0;32m     20\u001b[0m                  years = np.arange(2021,2030)):\n\u001b[0;32m     21\u001b[0m         \u001b[1;31m#mortality probabilities\u001b[0m\u001b[1;33m\u001b[0m\u001b[1;33m\u001b[0m\u001b[0m\n\u001b[1;32m---> 22\u001b[1;33m         \u001b[0mmort_male\u001b[0m \u001b[1;33m=\u001b[0m \u001b[0mpd\u001b[0m\u001b[1;33m.\u001b[0m\u001b[0mread_excel\u001b[0m\u001b[1;33m(\u001b[0m\u001b[0mp_mort_file\u001b[0m\u001b[1;33m,\u001b[0m \u001b[1;34m'male'\u001b[0m\u001b[1;33m)\u001b[0m\u001b[1;33m.\u001b[0m\u001b[0miloc\u001b[0m\u001b[1;33m[\u001b[0m\u001b[1;33m:\u001b[0m\u001b[1;33m,\u001b[0m\u001b[1;33m:\u001b[0m\u001b[1;36m30\u001b[0m\u001b[1;33m]\u001b[0m\u001b[1;33m\u001b[0m\u001b[1;33m\u001b[0m\u001b[0m\n\u001b[0m\u001b[0;32m     23\u001b[0m         \u001b[0mmort_male\u001b[0m\u001b[1;33m.\u001b[0m\u001b[0mindex\u001b[0m \u001b[1;33m=\u001b[0m \u001b[0mmort_male\u001b[0m\u001b[1;33m[\u001b[0m\u001b[1;34m'age'\u001b[0m\u001b[1;33m]\u001b[0m\u001b[1;33m\u001b[0m\u001b[1;33m\u001b[0m\u001b[0m\n\u001b[0;32m     24\u001b[0m         \u001b[0mmort_female\u001b[0m \u001b[1;33m=\u001b[0m \u001b[0mpd\u001b[0m\u001b[1;33m.\u001b[0m\u001b[0mread_excel\u001b[0m\u001b[1;33m(\u001b[0m\u001b[0mp_mort_file\u001b[0m\u001b[1;33m,\u001b[0m \u001b[1;34m'female'\u001b[0m\u001b[1;33m)\u001b[0m\u001b[1;33m.\u001b[0m\u001b[0miloc\u001b[0m\u001b[1;33m[\u001b[0m\u001b[1;33m:\u001b[0m\u001b[1;33m,\u001b[0m\u001b[1;33m:\u001b[0m\u001b[1;36m30\u001b[0m\u001b[1;33m]\u001b[0m\u001b[1;33m\u001b[0m\u001b[1;33m\u001b[0m\u001b[0m\n",
      "\u001b[1;32m~\\AppData\\Local\\Continuum\\anaconda3\\envs\\torch19\\lib\\site-packages\\pandas\\util\\_decorators.py\u001b[0m in \u001b[0;36mwrapper\u001b[1;34m(*args, **kwargs)\u001b[0m\n\u001b[0;32m    309\u001b[0m                     \u001b[0mstacklevel\u001b[0m\u001b[1;33m=\u001b[0m\u001b[0mstacklevel\u001b[0m\u001b[1;33m,\u001b[0m\u001b[1;33m\u001b[0m\u001b[1;33m\u001b[0m\u001b[0m\n\u001b[0;32m    310\u001b[0m                 )\n\u001b[1;32m--> 311\u001b[1;33m             \u001b[1;32mreturn\u001b[0m \u001b[0mfunc\u001b[0m\u001b[1;33m(\u001b[0m\u001b[1;33m*\u001b[0m\u001b[0margs\u001b[0m\u001b[1;33m,\u001b[0m \u001b[1;33m**\u001b[0m\u001b[0mkwargs\u001b[0m\u001b[1;33m)\u001b[0m\u001b[1;33m\u001b[0m\u001b[1;33m\u001b[0m\u001b[0m\n\u001b[0m\u001b[0;32m    312\u001b[0m \u001b[1;33m\u001b[0m\u001b[0m\n\u001b[0;32m    313\u001b[0m         \u001b[1;32mreturn\u001b[0m \u001b[0mwrapper\u001b[0m\u001b[1;33m\u001b[0m\u001b[1;33m\u001b[0m\u001b[0m\n",
      "\u001b[1;32m~\\AppData\\Local\\Continuum\\anaconda3\\envs\\torch19\\lib\\site-packages\\pandas\\io\\excel\\_base.py\u001b[0m in \u001b[0;36mread_excel\u001b[1;34m(io, sheet_name, header, names, index_col, usecols, squeeze, dtype, engine, converters, true_values, false_values, skiprows, nrows, na_values, keep_default_na, na_filter, verbose, parse_dates, date_parser, thousands, comment, skipfooter, convert_float, mangle_dupe_cols, storage_options)\u001b[0m\n\u001b[0;32m    362\u001b[0m     \u001b[1;32mif\u001b[0m \u001b[1;32mnot\u001b[0m \u001b[0misinstance\u001b[0m\u001b[1;33m(\u001b[0m\u001b[0mio\u001b[0m\u001b[1;33m,\u001b[0m \u001b[0mExcelFile\u001b[0m\u001b[1;33m)\u001b[0m\u001b[1;33m:\u001b[0m\u001b[1;33m\u001b[0m\u001b[1;33m\u001b[0m\u001b[0m\n\u001b[0;32m    363\u001b[0m         \u001b[0mshould_close\u001b[0m \u001b[1;33m=\u001b[0m \u001b[1;32mTrue\u001b[0m\u001b[1;33m\u001b[0m\u001b[1;33m\u001b[0m\u001b[0m\n\u001b[1;32m--> 364\u001b[1;33m         \u001b[0mio\u001b[0m \u001b[1;33m=\u001b[0m \u001b[0mExcelFile\u001b[0m\u001b[1;33m(\u001b[0m\u001b[0mio\u001b[0m\u001b[1;33m,\u001b[0m \u001b[0mstorage_options\u001b[0m\u001b[1;33m=\u001b[0m\u001b[0mstorage_options\u001b[0m\u001b[1;33m,\u001b[0m \u001b[0mengine\u001b[0m\u001b[1;33m=\u001b[0m\u001b[0mengine\u001b[0m\u001b[1;33m)\u001b[0m\u001b[1;33m\u001b[0m\u001b[1;33m\u001b[0m\u001b[0m\n\u001b[0m\u001b[0;32m    365\u001b[0m     \u001b[1;32melif\u001b[0m \u001b[0mengine\u001b[0m \u001b[1;32mand\u001b[0m \u001b[0mengine\u001b[0m \u001b[1;33m!=\u001b[0m \u001b[0mio\u001b[0m\u001b[1;33m.\u001b[0m\u001b[0mengine\u001b[0m\u001b[1;33m:\u001b[0m\u001b[1;33m\u001b[0m\u001b[1;33m\u001b[0m\u001b[0m\n\u001b[0;32m    366\u001b[0m         raise ValueError(\n",
      "\u001b[1;32m~\\AppData\\Local\\Continuum\\anaconda3\\envs\\torch19\\lib\\site-packages\\pandas\\io\\excel\\_base.py\u001b[0m in \u001b[0;36m__init__\u001b[1;34m(self, path_or_buffer, engine, storage_options)\u001b[0m\n\u001b[0;32m   1189\u001b[0m                 \u001b[0mext\u001b[0m \u001b[1;33m=\u001b[0m \u001b[1;34m\"xls\"\u001b[0m\u001b[1;33m\u001b[0m\u001b[1;33m\u001b[0m\u001b[0m\n\u001b[0;32m   1190\u001b[0m             \u001b[1;32melse\u001b[0m\u001b[1;33m:\u001b[0m\u001b[1;33m\u001b[0m\u001b[1;33m\u001b[0m\u001b[0m\n\u001b[1;32m-> 1191\u001b[1;33m                 ext = inspect_excel_format(\n\u001b[0m\u001b[0;32m   1192\u001b[0m                     \u001b[0mcontent_or_path\u001b[0m\u001b[1;33m=\u001b[0m\u001b[0mpath_or_buffer\u001b[0m\u001b[1;33m,\u001b[0m \u001b[0mstorage_options\u001b[0m\u001b[1;33m=\u001b[0m\u001b[0mstorage_options\u001b[0m\u001b[1;33m\u001b[0m\u001b[1;33m\u001b[0m\u001b[0m\n\u001b[0;32m   1193\u001b[0m                 )\n",
      "\u001b[1;32m~\\AppData\\Local\\Continuum\\anaconda3\\envs\\torch19\\lib\\site-packages\\pandas\\io\\excel\\_base.py\u001b[0m in \u001b[0;36minspect_excel_format\u001b[1;34m(content_or_path, storage_options)\u001b[0m\n\u001b[0;32m   1068\u001b[0m         \u001b[0mcontent_or_path\u001b[0m \u001b[1;33m=\u001b[0m \u001b[0mBytesIO\u001b[0m\u001b[1;33m(\u001b[0m\u001b[0mcontent_or_path\u001b[0m\u001b[1;33m)\u001b[0m\u001b[1;33m\u001b[0m\u001b[1;33m\u001b[0m\u001b[0m\n\u001b[0;32m   1069\u001b[0m \u001b[1;33m\u001b[0m\u001b[0m\n\u001b[1;32m-> 1070\u001b[1;33m     with get_handle(\n\u001b[0m\u001b[0;32m   1071\u001b[0m         \u001b[0mcontent_or_path\u001b[0m\u001b[1;33m,\u001b[0m \u001b[1;34m\"rb\"\u001b[0m\u001b[1;33m,\u001b[0m \u001b[0mstorage_options\u001b[0m\u001b[1;33m=\u001b[0m\u001b[0mstorage_options\u001b[0m\u001b[1;33m,\u001b[0m \u001b[0mis_text\u001b[0m\u001b[1;33m=\u001b[0m\u001b[1;32mFalse\u001b[0m\u001b[1;33m\u001b[0m\u001b[1;33m\u001b[0m\u001b[0m\n\u001b[0;32m   1072\u001b[0m     ) as handle:\n",
      "\u001b[1;32m~\\AppData\\Local\\Continuum\\anaconda3\\envs\\torch19\\lib\\site-packages\\pandas\\io\\common.py\u001b[0m in \u001b[0;36mget_handle\u001b[1;34m(path_or_buf, mode, encoding, compression, memory_map, is_text, errors, storage_options)\u001b[0m\n\u001b[0;32m    708\u001b[0m         \u001b[1;32melse\u001b[0m\u001b[1;33m:\u001b[0m\u001b[1;33m\u001b[0m\u001b[1;33m\u001b[0m\u001b[0m\n\u001b[0;32m    709\u001b[0m             \u001b[1;31m# Binary mode\u001b[0m\u001b[1;33m\u001b[0m\u001b[1;33m\u001b[0m\u001b[0m\n\u001b[1;32m--> 710\u001b[1;33m             \u001b[0mhandle\u001b[0m \u001b[1;33m=\u001b[0m \u001b[0mopen\u001b[0m\u001b[1;33m(\u001b[0m\u001b[0mhandle\u001b[0m\u001b[1;33m,\u001b[0m \u001b[0mioargs\u001b[0m\u001b[1;33m.\u001b[0m\u001b[0mmode\u001b[0m\u001b[1;33m)\u001b[0m\u001b[1;33m\u001b[0m\u001b[1;33m\u001b[0m\u001b[0m\n\u001b[0m\u001b[0;32m    711\u001b[0m         \u001b[0mhandles\u001b[0m\u001b[1;33m.\u001b[0m\u001b[0mappend\u001b[0m\u001b[1;33m(\u001b[0m\u001b[0mhandle\u001b[0m\u001b[1;33m)\u001b[0m\u001b[1;33m\u001b[0m\u001b[1;33m\u001b[0m\u001b[0m\n\u001b[0;32m    712\u001b[0m \u001b[1;33m\u001b[0m\u001b[0m\n",
      "\u001b[1;31mFileNotFoundError\u001b[0m: [Errno 2] No such file or directory: 'C:Users\\\\hvanvoorst\\\\Dropbox\\\\CLEOPATRA\\\\CLEOPATRA\\\\model_inputs\\\\Forecasted_mortality.xlsx'"
     ]
    }
   ],
   "source": [
    "import pandas as pd\n",
    "import numpy as np\n",
    "import os,sys\n",
    "from Utils.utils import *\n",
    "from Utils.mRS_computation import *\n",
    "from Model.Simulate import *\n",
    "from Model.Mortality import Mortality\n",
    "from Model.RecurrentStroke import RecurrentStroke\n",
    "from Model.Utilities import Costs, QALYs\n",
    "\n",
    "p_inputs = r'C:\\Users\\henkvanvoorst\\Dropbox\\CLEOPATRA\\model_inputs'\n",
    "p_inputs = r'C:\\Users\\hvanvoorst\\Dropbox\\CLEOPATRA\\CLEOPATRA\\model_inputs'\n",
    "\n",
    "p_mort_file = os.path.join(p_inputs, 'Forecasted_mortality.xlsx')\n",
    "p_HR_file = os.path.join(p_inputs, 'Stroke_recurrence.xlsx')\n",
    "p_cost_file = os.path.join(p_inputs, 'Costs.xlsx')\n",
    "p_qaly_file = os.path.join(p_inputs, 'QALYs.xlsx')\n",
    "\n",
    "\n",
    "M = Mortality(\n",
    "              p_mort_file = p_mort_file, \n",
    "              HR_mrs = np.array([1.54,2.17,3.18,4.55,6.55]),\n",
    "              years = np.arange(2021,2030)\n",
    "                )\n",
    "\n",
    "RS = RecurrentStroke(\n",
    "                    file_p_HR = p_HR_file,\n",
    "                    p_mrs_postrestroke = np.array([11/233, 21/233,18/233,22/233,6/233])\n",
    "                    )\n",
    "\n",
    "C = Costs(\n",
    "         file=p_cost_file,\n",
    "         start_inflation=1.2, # inflation factor before simulation (2015 -> 2022)\n",
    "         discounting_rate=1.04,\n",
    "         inflation_rate=1.03\n",
    "            )\n",
    "\n",
    "Q = QALYs(\n",
    "        file = p_qaly_file,\n",
    "        discounting_rate=1.04\n",
    "            )"
   ]
  },
  {
   "cell_type": "code",
   "execution_count": 3,
   "metadata": {},
   "outputs": [],
   "source": [
    "# def compute_shift_no_evt(pt_dct, ORs):\n",
    "#     \"\"\"\n",
    "#     pt_dct: dict with keys are also keys in ORs \n",
    "#             values are used to compute absolute shift\n",
    "#     ORs: dict with keys of Tx values are Odds Ratios for favorable mRS\n",
    "\n",
    "#     return one hot encoded probabilities of mRS for given patient\n",
    "#     \"\"\"\n",
    "#     p_shift = 0\n",
    "#     for name,OR in ORs.items():\n",
    "#         if name in pt_dct.keys():\n",
    "#             p_shift -= pt_dct[name]*np.log(OR)\n",
    "#     mRS = np.zeros(7)\n",
    "#     #compute one hot embedding\n",
    "#     fl_new_mrs = pt_dct['mRS']+p_shift\n",
    "#     new_mrs = int(np.floor(fl_new_mrs))\n",
    "#     p_new_mrs = 1-(fl_new_mrs-new_mrs)\n",
    "#     mRS[new_mrs] = p_new_mrs \n",
    "#     mRS[new_mrs+1] = 1-p_new_mrs \n",
    "#     return mRS"
   ]
  },
  {
   "cell_type": "code",
   "execution_count": 14,
   "metadata": {},
   "outputs": [
    {
     "data": {
      "text/plain": [
       "noEVT_mRS_0    7.251547\n",
       "noEVT_mRS_1    6.238354\n",
       "noEVT_mRS_2    5.915149\n",
       "noEVT_mRS_3    7.634369\n",
       "noEVT_mRS_4    8.375770\n",
       "noEVT_mRS_5    7.154532\n",
       "noEVT_mRS_6    5.430280\n",
       "dtype: float64"
      ]
     },
     "execution_count": 14,
     "metadata": {},
     "output_type": "execute_result"
    }
   ],
   "source": [
    "#1 model the decision\n",
    "# n_patients with characteristics\n",
    "np.random.seed(2)\n",
    "fake_dta = np.vstack([np.arange(100),\n",
    "                      np.random.randint(0,150,size=100),\n",
    "                      np.random.randint(50,80,size=100),\n",
    "                      np.random.randint(0,7,size=100),\n",
    "                     ]).T\n",
    "df = pd.DataFrame(fake_dta,columns=['ID','core_vol','age','mRS'])\n",
    "df['EVT*core_vol'] = df['core_vol']/10\n",
    "df['EVT'] = 1\n",
    "df.index = df['ID']\n",
    "    \n",
    "# dictionary with ORs\n",
    "ORs = {'EVT':2.52, 'EVT*core_vol':0.98}\n",
    "input_dist = get_mRS_EVT_noEVT(df,ORs)\n",
    "# define how patients are selected\n",
    "ID_treat_select = df[df['core_vol']<=70].index\n",
    "\n",
    "n_evt = len(ID_treat_select)\n",
    "n_noevt = len(df)-len(ID_treat_select)\n",
    "\n",
    "#compute 90d outcome\n",
    "# mrs 90 day for EVT and no EVT based on CTP\n",
    "mrs_ctp_evt, mrs_ctp_noevt, select_EVT, exclude_EVT = mRS_90d_2arms(input_dist,ID_treat_select)\n",
    "# mrs 90 day for control arm (all EVT)\n",
    "mrs_contr, __, select_EVT, __ = mRS_90d_2arms(input_dist,df.index)\n",
    "\n",
    "#baseline vars: age, gender\n",
    "mrs_ctp_noevt"
   ]
  },
  {
   "cell_type": "code",
   "execution_count": 13,
   "metadata": {},
   "outputs": [
    {
     "data": {
      "text/html": [
       "<div>\n",
       "<style scoped>\n",
       "    .dataframe tbody tr th:only-of-type {\n",
       "        vertical-align: middle;\n",
       "    }\n",
       "\n",
       "    .dataframe tbody tr th {\n",
       "        vertical-align: top;\n",
       "    }\n",
       "\n",
       "    .dataframe thead th {\n",
       "        text-align: right;\n",
       "    }\n",
       "</style>\n",
       "<table border=\"1\" class=\"dataframe\">\n",
       "  <thead>\n",
       "    <tr style=\"text-align: right;\">\n",
       "      <th></th>\n",
       "      <th>ID</th>\n",
       "      <th>core_vol</th>\n",
       "      <th>age</th>\n",
       "      <th>mRS</th>\n",
       "      <th>EVT*core_vol</th>\n",
       "      <th>EVT</th>\n",
       "      <th>abs_EVT</th>\n",
       "      <th>OR_EVT</th>\n",
       "      <th>OR_noEVT</th>\n",
       "    </tr>\n",
       "  </thead>\n",
       "  <tbody>\n",
       "    <tr>\n",
       "      <th>0</th>\n",
       "      <td>0</td>\n",
       "      <td>34</td>\n",
       "      <td>61</td>\n",
       "      <td>0</td>\n",
       "      <td>3.4</td>\n",
       "      <td>1</td>\n",
       "      <td>0.855570</td>\n",
       "      <td>2.352714</td>\n",
       "      <td>0.425041</td>\n",
       "    </tr>\n",
       "    <tr>\n",
       "      <th>1</th>\n",
       "      <td>1</td>\n",
       "      <td>75</td>\n",
       "      <td>68</td>\n",
       "      <td>0</td>\n",
       "      <td>7.5</td>\n",
       "      <td>1</td>\n",
       "      <td>0.772739</td>\n",
       "      <td>2.165689</td>\n",
       "      <td>0.461747</td>\n",
       "    </tr>\n",
       "    <tr>\n",
       "      <th>2</th>\n",
       "      <td>2</td>\n",
       "      <td>112</td>\n",
       "      <td>55</td>\n",
       "      <td>1</td>\n",
       "      <td>11.2</td>\n",
       "      <td>1</td>\n",
       "      <td>0.697989</td>\n",
       "      <td>2.009706</td>\n",
       "      <td>0.497585</td>\n",
       "    </tr>\n",
       "  </tbody>\n",
       "</table>\n",
       "</div>"
      ],
      "text/plain": [
       "   ID  core_vol  age  mRS  EVT*core_vol  EVT   abs_EVT    OR_EVT  OR_noEVT\n",
       "0   0        34   61    0           3.4    1  0.855570  2.352714  0.425041\n",
       "1   1        75   68    0           7.5    1  0.772739  2.165689  0.461747\n",
       "2   2       112   55    1          11.2    1  0.697989  2.009706  0.497585"
      ]
     },
     "execution_count": 13,
     "metadata": {},
     "output_type": "execute_result"
    }
   ],
   "source": [
    "df['abs_EVT'] = df['EVT*core_vol']*np.log(ORs['EVT*core_vol'])+df['EVT']*np.log(ORs['EVT'])\n",
    "df['OR_EVT'] = np.exp(df['abs_EVT'])\n",
    "df['OR_noEVT'] = 1/df['OR_EVT']\n",
    "df.head(3)"
   ]
  },
  {
   "cell_type": "code",
   "execution_count": 15,
   "metadata": {},
   "outputs": [
    {
     "name": "stdout",
     "output_type": "stream",
     "text": [
      "0.9900990099009901 0.9960159362549801 0.9090909090909091 0.9615384615384616 0.5 0.7142857142857143\n",
      "0.4 0.4 0.4\n"
     ]
    },
    {
     "data": {
      "text/plain": [
       "0.4084507042253521"
      ]
     },
     "execution_count": 15,
     "metadata": {},
     "output_type": "execute_result"
    }
   ],
   "source": [
    "#(a/b)/(c/d) = (TP/FP)/(FN/TN)\n",
    "#100/250 = 0.4\n",
    "#1/0.01 = 0.01/xx\n",
    "#100/250 = 0.4\n",
    "# get data HERMES: (treatment/goodoutcome)/(notreatment/goodoutcome)\n",
    "# get data HERMES: (corevol>x*EVT/goodoutcome)/(corevol>x*noEVT/goodoutcome)\n",
    "# act as if notreatment is number is known (get from data)\n",
    "\n",
    "print(100/101, 250/251, 10/11,25/26, 1/2,2.5/3.5)\n",
    "print(100/250, 10/25, 1/2.5)\n",
    "(.5/.5)/(.71/(1-.71))"
   ]
  },
  {
   "cell_type": "code",
   "execution_count": 3,
   "metadata": {},
   "outputs": [],
   "source": [
    "# example for long term simulaion\n",
    "SLT = SimulateLongTerm(5,M,RS,C,Q,\n",
    "                 start_year = 2022)\n",
    "# for PSA: SLT._probabilistic_resample()\n",
    "\n",
    "mrs_start = np.array([0,0,.7,.2,0,.1])\n",
    "patients = [[['R1','R1'],'M',70,mrs_start]]\n",
    "\n",
    "#for arm in arms --> define patient_data with mrs_start\n",
    "for data in patients:\n",
    "    IDs,gender, age, mrs_start = data\n",
    "    out = SLT(gender, age, mrs_start,IDs) #.5 ms --> cohort of 1000: 50 secs"
   ]
  },
  {
   "cell_type": "code",
   "execution_count": 4,
   "metadata": {},
   "outputs": [
    {
     "name": "stdout",
     "output_type": "stream",
     "text": [
      "6.54 ms ± 145 µs per loop (mean ± std. dev. of 7 runs, 100 loops each)\n",
      "432 µs ± 6.58 µs per loop (mean ± std. dev. of 7 runs, 1000 loops each)\n"
     ]
    }
   ],
   "source": [
    "# 7 ms per iter --> 10 minutes for 10,000 MC PSA\n",
    "%timeit SLT._probabilistic_resample()\n",
    "%timeit SLT(gender, age, mrs_start,IDs)"
   ]
  },
  {
   "cell_type": "code",
   "execution_count": null,
   "metadata": {},
   "outputs": [],
   "source": []
  }
 ],
 "metadata": {
  "kernelspec": {
   "display_name": "Python 3 (ipykernel)",
   "language": "python",
   "name": "python3"
  },
  "language_info": {
   "codemirror_mode": {
    "name": "ipython",
    "version": 3
   },
   "file_extension": ".py",
   "mimetype": "text/x-python",
   "name": "python",
   "nbconvert_exporter": "python",
   "pygments_lexer": "ipython3",
   "version": "3.9.7"
  }
 },
 "nbformat": 4,
 "nbformat_minor": 2
}
