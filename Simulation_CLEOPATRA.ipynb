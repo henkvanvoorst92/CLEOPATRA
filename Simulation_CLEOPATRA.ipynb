{
 "cells": [
  {
   "cell_type": "code",
   "execution_count": 1,
   "metadata": {},
   "outputs": [],
   "source": [
    "import pandas as pd\n",
    "import numpy as np\n",
    "import os,sys\n",
    "from Utils.utils import *\n",
    "from Utils.mRS_computation import *\n",
    "from Model.Simulate import *\n",
    "from Model.Mortality import Mortality\n",
    "from Model.RecurrentStroke import RecurrentStroke\n",
    "from Model.Utilities import Costs, QALYs\n",
    "\n",
    "p_inputs = r'C:\\Users\\henkvanvoorst\\Dropbox\\CLEOPATRA\\model_inputs'\n",
    "\n",
    "p_mort_file = os.path.join(p_inputs, 'Forecasted_mortality.xlsx')\n",
    "p_HR_file = os.path.join(p_inputs, 'Stroke_recurrence.xlsx')\n",
    "p_cost_file = os.path.join(p_inputs, 'Costs.xlsx')\n",
    "p_qaly_file = os.path.join(p_inputs, 'QALYs.xlsx')\n",
    "\n",
    "M = Mortality(\n",
    "              p_mort_file = p_mort_file, \n",
    "              HR_mrs = np.array([1.54,2.17,3.18,4.55,6.55]),\n",
    "              years = np.arange(2021,2030)\n",
    "                )\n",
    "\n",
    "RS = RecurrentStroke(\n",
    "                    file_p_HR = p_HR_file,\n",
    "                    p_mrs_postrestroke = np.array([11/233, 21/233,18/233,22/233,6/233])\n",
    "                    )\n",
    "\n",
    "C = Costs(\n",
    "         file=p_cost_file,\n",
    "         start_inflation=1.2, # inflation factor before simulation (2015 -> 2022)\n",
    "         discounting_rate=1.04,\n",
    "         inflation_rate=1.03\n",
    "            )\n",
    "\n",
    "Q = QALYs(\n",
    "        file = p_qaly_file,\n",
    "        discounting_rate=1.04\n",
    "            )"
   ]
  },
  {
   "cell_type": "code",
   "execution_count": 2,
   "metadata": {},
   "outputs": [
    {
     "data": {
      "text/plain": [
       "noEVT_mRS_0    7.251547\n",
       "noEVT_mRS_1    6.238354\n",
       "noEVT_mRS_2    5.915149\n",
       "noEVT_mRS_3    7.634369\n",
       "noEVT_mRS_4    8.375770\n",
       "noEVT_mRS_5    7.154532\n",
       "noEVT_mRS_6    5.430280\n",
       "dtype: float64"
      ]
     },
     "execution_count": 2,
     "metadata": {},
     "output_type": "execute_result"
    }
   ],
   "source": [
    "#1 model the decision\n",
    "# n_patients with characteristics\n",
    "np.random.seed(2)\n",
    "fake_dta = np.vstack([np.arange(100),\n",
    "                      np.random.randint(0,150,size=100),\n",
    "                      np.random.randint(50,80,size=100),\n",
    "                      np.random.randint(0,7,size=100),\n",
    "                     ]).T\n",
    "df = pd.DataFrame(fake_dta,columns=['ID','core_vol','age','mRS'])\n",
    "df['EVT*core_vol'] = df['core_vol']/10\n",
    "df['EVT'] = 1\n",
    "df.index = df['ID']\n",
    "    \n",
    "# dictionary with ORs\n",
    "ORs = {'EVT':2.52, 'EVT*core_vol':0.98}\n",
    "input_dist = get_mRS_EVT_noEVT(df,ORs)\n",
    "# define how patients are selected\n",
    "ID_treat_select = df[df['core_vol']<=70].index\n",
    "\n",
    "n_evt = len(ID_treat_select)\n",
    "n_noevt = len(df)-len(ID_treat_select)\n",
    "\n",
    "#compute 90d outcome\n",
    "mrs_ctp_evt, mrs_ctp_noevt, select_EVT, exclude_EVT = mRS_90d_2arms(input_dist,ID_treat_select)\n",
    "mrs_contr, __, select_EVT, __ = mRS_90d_2arms(input_dist,df.index)\n",
    "\n",
    "#baseline vars: age, gender\n",
    "mrs_ctp_noevt"
   ]
  },
  {
   "cell_type": "code",
   "execution_count": 3,
   "metadata": {},
   "outputs": [],
   "source": [
    "# example for long term simulaion\n",
    "SLT = SimulateLongTerm(5,M,RS,C,Q,\n",
    "                 start_year = 2022)\n",
    "# for PSA: SLT._probabilistic_resample()\n",
    "\n",
    "mrs_start = np.array([0,0,.7,.2,0,.1])\n",
    "patients = [[['R1','R1'],'M',70,mrs_start]]\n",
    "\n",
    "#for arm in arms --> define patient_data with mrs_start\n",
    "for data in patients:\n",
    "    IDs,gender, age, mrs_start = data\n",
    "    out = SLT(gender, age, mrs_start,IDs) #.5 ms --> cohort of 1000: 50 secs"
   ]
  },
  {
   "cell_type": "code",
   "execution_count": 4,
   "metadata": {},
   "outputs": [
    {
     "name": "stdout",
     "output_type": "stream",
     "text": [
      "6.54 ms ± 145 µs per loop (mean ± std. dev. of 7 runs, 100 loops each)\n",
      "432 µs ± 6.58 µs per loop (mean ± std. dev. of 7 runs, 1000 loops each)\n"
     ]
    }
   ],
   "source": [
    "# 7 ms per iter --> 10 minutes for 10,000 MC PSA\n",
    "%timeit SLT._probabilistic_resample()\n",
    "%timeit SLT(gender, age, mrs_start,IDs)"
   ]
  },
  {
   "cell_type": "code",
   "execution_count": null,
   "metadata": {},
   "outputs": [],
   "source": []
  }
 ],
 "metadata": {
  "kernelspec": {
   "display_name": "Python 3",
   "language": "python",
   "name": "python3"
  },
  "language_info": {
   "codemirror_mode": {
    "name": "ipython",
    "version": 3
   },
   "file_extension": ".py",
   "mimetype": "text/x-python",
   "name": "python",
   "nbconvert_exporter": "python",
   "pygments_lexer": "ipython3",
   "version": "3.7.3"
  }
 },
 "nbformat": 4,
 "nbformat_minor": 2
}
