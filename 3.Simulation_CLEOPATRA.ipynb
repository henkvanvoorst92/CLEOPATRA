{
 "cells": [
  {
   "cell_type": "code",
   "execution_count": 1,
   "metadata": {},
   "outputs": [],
   "source": [
    "#Simulation manual:\n",
    "# Initalize the following objects:\n",
    "    #CPG: Uses OR for EVT and EVT*core_vol to generate noEVT arm from EVT arm\n",
    "    #M: Simulates mRS, age, and sex related mortality in the long run\n",
    "    #RS: Simulates mRS, years since index stroke, and age related mRS decay due to recurrent stroke\n",
    "    #C: Contains and computes costs per mRS per follow-up year, and costs of intial treatment/diagnostics\n",
    "    #Q: Contains and computes QALYs per mRS per follow-up year\n",
    "    #Sim: Combines the above objects in a simulator that runs simulations when called\n",
    "    #df: Observed 90d mRS and baseline variables of all patients in EVT arm\n",
    "#Baseline simulation:\n",
    "    #Select IDs and pass df to run simulate_IDs -->\n",
    "    #returns totals_res, extend_res\n",
    "    #Running cohort_outcome_per_threshold will \n",
    "    #return:\n",
    "        #out: NMB, d_costs, d_qalys per ID\n",
    "        #aggr: average ICER, NMB, d_costs, d_qalys between strategies over the baseline cohort\n",
    "#Probabilistic sensitivity:\n",
    "    #Run probabilistic_simulation with predefined cohort size and number of resamples\n",
    "    #also returns totals_res, extend_res but concatenated over all simulations (N_resamples)\n",
    "    #Run probabilistic_cohort_outcomes_per_threshold\n",
    "    #also returns per simulation average ICER, NMB, d_costs, d_qalys\n",
    " "
   ]
  },
  {
   "cell_type": "code",
   "execution_count": 74,
   "metadata": {},
   "outputs": [
    {
     "name": "stdout",
     "output_type": "stream",
     "text": [
      "(705, 25)\n"
     ]
    }
   ],
   "source": [
    "import pandas as pd\n",
    "import numpy as np\n",
    "import os,sys\n",
    "sys.path.append(r'C:\\Users\\hvanvoorst\\PhD\\git_repos\\CLEOPATRA')\n",
    "sys.path.append(r'C:\\Users\\henkvanvoorst\\Documents\\phd\\git_repos\\CLEOPATRA')\n",
    "#usefull functions for processing data\n",
    "from Utils.utils import *\n",
    "#Objects to initialize for simulations\n",
    "from Model.Simulate import ControlPatientGeneration, Simulate\n",
    "from Model.Mortality import Mortality\n",
    "from Model.RecurrentStroke import RecurrentStroke\n",
    "from Model.Utilities import Costs, QALYs\n",
    "#standard simulation functions\n",
    "from Utils.Experiment import probabilistic_simulation, get_patient_dct, simulate_IDs\n",
    "#extended analyses functions\n",
    "from Utils.Experiment import OR_shift_psa, subgroup_psa, M2_miss_psa\n",
    "from Utils.Outcomes import cohort_outcome\n",
    "from Utils.Outcomes import probabilistic_cohort_outcomes\n",
    "import warnings\n",
    "warnings.filterwarnings('ignore')\n",
    "\n",
    "p_inputs = r'C:\\Users\\henkvanvoorst\\Documents\\phd\\CLEOPATRA\\model_inputs'\n",
    "p_inputs = r'E:\\CLEOPATRA\\model_inputs'\n",
    "\n",
    "root_sav = r'E:\\CLEOPATRA\\results'\n",
    "root_fig = r'E:\\CLEOPATRA\\figures_june'\n",
    "p_mort_file = os.path.join(p_inputs, 'Forecasted_mortality.xlsx')\n",
    "p_HR_file = os.path.join(p_inputs, 'Stroke_recurrence.xlsx')\n",
    "p_cost_file = os.path.join(p_inputs, 'Costs.xlsx')\n",
    "p_qaly_file = os.path.join(p_inputs, 'QALYs.xlsx')\n",
    "p_nums_mrs = os.path.join(p_inputs,'mRS_evt_noevt_core_vol.xlsx')\n",
    "p_OR = os.path.join(p_inputs,'OR_mrcleantrial.xlsx')\n",
    "\n",
    "CPG = ControlPatientGeneration(\n",
    "                                p_OR,\n",
    "                                p_nums_mrs,\n",
    "                                verbal=False\n",
    "                                )\n",
    "\n",
    "M = Mortality(\n",
    "              p_mort_file = p_mort_file, \n",
    "              HR_mrs = np.array([1.54,2.17,3.18,4.55,6.55]),\n",
    "              years = np.arange(2021,2035)\n",
    "                )\n",
    "\n",
    "RS = RecurrentStroke(\n",
    "                    file_p_HR = p_HR_file,\n",
    "                    p_mrs_postrestroke = np.array([11/233, 21/233,18/233,22/233,6/233])\n",
    "                    )\n",
    "\n",
    "#inflation 2015-2022 to get costs for start reference year 2023\n",
    "infl_py = [0.6,0.3,1.4,1.7,2.6,1.3,9]\n",
    "start_infl = np.prod(np.array([1+i/100 for i in infl_py]))\n",
    "\n",
    "C = Costs(\n",
    "         file=p_cost_file,\n",
    "         costs_IVT=950.82, costs_CTP=251.4, costs_EVT=9924.5,\n",
    "         start_inflation=start_infl, # inflation factor before simulation (2015 -> 2022)\n",
    "         discounting_rate=1.04,\n",
    "         inflation_rate=1.017 #future inflation rate\n",
    "            )\n",
    "\n",
    "Q = QALYs(\n",
    "        file = p_qaly_file,\n",
    "        discounting_rate=1.015\n",
    "        )\n",
    "\n",
    "#PM:\n",
    "# MR CLEAN trial: OR=1.86(CI:1.34-2.59) --> #OR: 1.67; 95% CI, 1.21 to 2.30\n",
    "# n_evt=233: n_mrs<3 = 33% - 77, n_mrs>2=67% - 156\n",
    "# n_noevt=267: n_mrs<3 = 19% - 52, n_mrs>2=80% - 214\n",
    "\n",
    "# HERMES CTP: OR=2.520(CI:1.483-4.283)\n",
    "# n_evt=289: n_mrs<3 = 136, n_mrs>2: 15\n",
    "\n",
    "Sim = Simulate(CPG,M,RS,C,Q,5,2023,verbal=False)\n",
    "\n",
    "df = pd.read_excel(r'E:\\CLEOPATRA\\imputed_database.xlsx')\n",
    "df.ivt_given = df.ivt_given-1\n",
    "df.index = df.IDs\n",
    "df['bl_occloc'] = df['bl_occloc'].replace(3,'M1').replace(2,'ICA-T').replace(4,'M2').replace(1,'ICA')\n",
    "df['age_groups'] = pd.cut(df.r_age,bins=[0,50,60,70,80,1000])\n",
    "df['otg_groups'] = pd.cut(df.t_otg,bins=[0,120,180,240,300,1000])\n",
    "df.ivt_given = df.ivt_given-1\n",
    "df.index = df.IDs\n",
    "bl_cols = ['core_vol', 'penumbra_vol', 'mm_ratio', \n",
    "       'r_age', 'bl_nihss_sum', 't_otg','r_sex',\n",
    "        'bl_collaterals','bl_hist_premrs','iat_post_etici',\n",
    "        'age_groups','otg_groups']\n",
    "BL = df[bl_cols]\n",
    "bl_dct = BL.to_dict(orient='index')\n",
    "print(df.shape)"
   ]
  },
  {
   "cell_type": "code",
   "execution_count": 8,
   "metadata": {},
   "outputs": [
    {
     "name": "stderr",
     "output_type": "stream",
     "text": [
      "100%|██████████████████████████████████████████████████████████████████████████████████| 10/10 [00:01<00:00,  8.19it/s]\n",
      "100%|██████████████████████████████████████████████████████████████████████████████████| 10/10 [00:01<00:00,  8.34it/s]\n",
      "100%|██████████████████████████████████████████████████████████████████████████████████| 10/10 [00:01<00:00,  8.52it/s]\n",
      "100%|██████████████████████████████████████████████████████████████████████████████████| 10/10 [00:01<00:00,  8.55it/s]\n"
     ]
    }
   ],
   "source": [
    "#all PSA simulations with saving\n",
    "root_sav = r'E:\\CLEOPATRA\\results\\PSA\\shift_OR'\n",
    "#baseline PSA is included when shift is set to zero\n",
    "OR_evt_shifts = [-.1,0] #[-.3,-.2,-.1,0,.1]\n",
    "OR_evt_corevol_shifts = [-.05,0] #[-.2,-.15,-.1,-.05,0]\n",
    "ext_res, aggr_res = OR_shift_psa(df,\n",
    "             OR_evt_shifts,\n",
    "             OR_evt_corevol_shifts,\n",
    "             Sim,\n",
    "             N_resamples=10, #10,000 in protocol --> use 1,000\n",
    "             N_patients_per_cohort=10, #100 pt in protocol\n",
    "             thresholds=np.arange(0,151,10),\n",
    "             seed=21)\n",
    "if not os.path.exists(root_sav):\n",
    "    os.makedirs(root_sav)\n",
    "    \n",
    "aggr_res.to_excel(os.path.join(root_sav,'aggregated_psa_res.xlsx'))\n",
    "ext_res.to_excel(os.path.join(root_sav,'extended_psa_res.xlsx'))\n"
   ]
  },
  {
   "cell_type": "code",
   "execution_count": 95,
   "metadata": {},
   "outputs": [
    {
     "name": "stdout",
     "output_type": "stream",
     "text": [
      "6    0.592593\n",
      "5    0.111111\n",
      "3    0.111111\n",
      "2    0.111111\n",
      "4    0.074074\n",
      "Name: mrs_def, dtype: float64\n"
     ]
    },
    {
     "data": {
      "image/png": "[encoded data removed]",
      "text/plain": [
       "<Figure size 432x288 with 1 Axes>"
      ]
     },
     "metadata": {
      "needs_background": "light"
     },
     "output_type": "display_data"
    }
   ],
   "source": [
    "print(df[df.core_vol>100]['mrs_def'].value_counts(normalize=True))\n",
    "sns.distplot(df[df.core_vol>100]['r_age'])\n",
    "plt.show()"
   ]
  },
  {
   "cell_type": "code",
   "execution_count": 94,
   "metadata": {},
   "outputs": [
    {
     "data": {
      "text/plain": [
       "70.55555555555556"
      ]
     },
     "execution_count": 94,
     "metadata": {},
     "output_type": "execute_result"
    }
   ],
   "source": []
  },
  {
   "cell_type": "code",
   "execution_count": 50,
   "metadata": {},
   "outputs": [
    {
     "data": {
      "text/html": [
       "<div>\n",
       "<style scoped>\n",
       "    .dataframe tbody tr th:only-of-type {\n",
       "        vertical-align: middle;\n",
       "    }\n",
       "\n",
       "    .dataframe tbody tr th {\n",
       "        vertical-align: top;\n",
       "    }\n",
       "\n",
       "    .dataframe thead th {\n",
       "        text-align: right;\n",
       "    }\n",
       "</style>\n",
       "<table border=\"1\" class=\"dataframe\">\n",
       "  <thead>\n",
       "    <tr style=\"text-align: right;\">\n",
       "      <th></th>\n",
       "      <th>OR_evt_shift</th>\n",
       "      <th>OR_evt_corevol_shift</th>\n",
       "      <th>threshold</th>\n",
       "      <th>C_ctp</th>\n",
       "      <th>Q_ctp</th>\n",
       "      <th>altered_decision</th>\n",
       "      <th>C_noctp_evt</th>\n",
       "      <th>Q_noctp_evt</th>\n",
       "      <th>C_noctp_noevt</th>\n",
       "      <th>Q_noctp_noevt</th>\n",
       "      <th>C_noctp</th>\n",
       "      <th>Q_noctp</th>\n",
       "      <th>d_costs</th>\n",
       "      <th>d_qalys</th>\n",
       "      <th>NMB</th>\n",
       "      <th>missed_M2</th>\n",
       "      <th>ICER</th>\n",
       "      <th>simno</th>\n",
       "    </tr>\n",
       "  </thead>\n",
       "  <tbody>\n",
       "    <tr>\n",
       "      <td>0</td>\n",
       "      <td>-0.1</td>\n",
       "      <td>-0.05</td>\n",
       "      <td>90.0</td>\n",
       "      <td>75328.127662</td>\n",
       "      <td>2.965179</td>\n",
       "      <td>0.0</td>\n",
       "      <td>75031.776661</td>\n",
       "      <td>2.965179</td>\n",
       "      <td>0.0</td>\n",
       "      <td>0.0</td>\n",
       "      <td>75031.776661</td>\n",
       "      <td>2.965179</td>\n",
       "      <td>296.351001</td>\n",
       "      <td>0.0</td>\n",
       "      <td>-296.351001</td>\n",
       "      <td>0.0</td>\n",
       "      <td>inf</td>\n",
       "      <td>4.5</td>\n",
       "    </tr>\n",
       "  </tbody>\n",
       "</table>\n",
       "</div>"
      ],
      "text/plain": [
       "   OR_evt_shift  OR_evt_corevol_shift  threshold         C_ctp     Q_ctp  \\\n",
       "0          -0.1                 -0.05       90.0  75328.127662  2.965179   \n",
       "\n",
       "   altered_decision   C_noctp_evt  Q_noctp_evt  C_noctp_noevt  Q_noctp_noevt  \\\n",
       "0               0.0  75031.776661     2.965179            0.0            0.0   \n",
       "\n",
       "        C_noctp   Q_noctp     d_costs  d_qalys         NMB  missed_M2  ICER  \\\n",
       "0  75031.776661  2.965179  296.351001      0.0 -296.351001        0.0   inf   \n",
       "\n",
       "   simno  \n",
       "0    4.5  "
      ]
     },
     "execution_count": 50,
     "metadata": {},
     "output_type": "execute_result"
    }
   ],
   "source": [
    "res = aggr_res.groupby(['OR_evt_shift', 'OR_evt_corevol_shift','threshold']).median().reset_index(drop=False)\n",
    "out = []\n",
    "for evt_shift in OR_evt_shifts:\n",
    "    for evt_corevol_shift in OR_evt_corevol_shifts:\n",
    "        tmp = res[(res['OR_evt_shift']==evt_shift)&(res['OR_evt_corevol_shift']==evt_corevol_shift)]\n",
    "        tmp.index = tmp['threshold']\n",
    "        max_NMB_threshold = tmp['NMB'].idxmax()\n",
    "        out.append([#evt_shift,evt_corevol_shift,\n",
    "                   *list(tmp.loc[max_NMB_threshold].values)])\n",
    "out = pd.DataFrame(out,columns = [*list(tmp.columns)]) #'OR_evt_shift', 'OR_evt_corevol_shift',\n",
    "out.head(1)"
   ]
  },
  {
   "cell_type": "code",
   "execution_count": 51,
   "metadata": {},
   "outputs": [
    {
     "data": {
      "text/plain": [
       "0    -0.1\n",
       "1    -0.1\n",
       "2     0.0\n",
       "3     0.0\n",
       "Name: OR_evt_shift, dtype: object"
      ]
     },
     "execution_count": 51,
     "metadata": {},
     "output_type": "execute_result"
    }
   ],
   "source": [
    "### create OR effect table"
   ]
  },
  {
   "cell_type": "code",
   "execution_count": 59,
   "metadata": {},
   "outputs": [
    {
     "data": {
      "text/html": [
       "<div>\n",
       "<style scoped>\n",
       "    .dataframe tbody tr th:only-of-type {\n",
       "        vertical-align: middle;\n",
       "    }\n",
       "\n",
       "    .dataframe tbody tr th {\n",
       "        vertical-align: top;\n",
       "    }\n",
       "\n",
       "    .dataframe thead th {\n",
       "        text-align: right;\n",
       "    }\n",
       "</style>\n",
       "<table border=\"1\" class=\"dataframe\">\n",
       "  <thead>\n",
       "    <tr style=\"text-align: right;\">\n",
       "      <th>OR_evt_corevol_shift</th>\n",
       "      <th>-0.05</th>\n",
       "      <th>0.00</th>\n",
       "    </tr>\n",
       "    <tr>\n",
       "      <th>OR_evt_shift</th>\n",
       "      <th></th>\n",
       "      <th></th>\n",
       "    </tr>\n",
       "  </thead>\n",
       "  <tbody>\n",
       "    <tr>\n",
       "      <td>-0.1</td>\n",
       "      <td>-296.351001</td>\n",
       "      <td>-296.351001</td>\n",
       "    </tr>\n",
       "    <tr>\n",
       "      <td>0.0</td>\n",
       "      <td>-296.351001</td>\n",
       "      <td>-296.351001</td>\n",
       "    </tr>\n",
       "  </tbody>\n",
       "</table>\n",
       "</div>"
      ],
      "text/plain": [
       "OR_evt_corevol_shift       -0.05        0.00\n",
       "OR_evt_shift                                \n",
       "-0.1                 -296.351001 -296.351001\n",
       " 0.0                 -296.351001 -296.351001"
      ]
     },
     "execution_count": 59,
     "metadata": {},
     "output_type": "execute_result"
    }
   ],
   "source": [
    "out.pivot(index='OR_evt_shift', columns='OR_evt_corevol_shift', values='NMB')"
   ]
  },
  {
   "cell_type": "code",
   "execution_count": 75,
   "metadata": {},
   "outputs": [
    {
     "name": "stderr",
     "output_type": "stream",
     "text": [
      "100%|██████████████████████████████████████████████████████████████████████████████████| 10/10 [00:11<00:00,  1.12s/it]\n"
     ]
    }
   ],
   "source": [
    "#probabilistic standard simulation --> not required since included in OR shift analyses (shift=0)\n",
    "#extract per patient,strategy, and simulation the results\n",
    "totals_res, extend_res = probabilistic_simulation(Sim,df,10,100)\n",
    "#compute difference between arms (PSA computes cohort outcomes per simulation)\n",
    "outs, aggrs = probabilistic_cohort_outcomes(totals_res,\n",
    "                                            bl_dct,\n",
    "                                            thresholds=np.arange(0,151,10),\n",
    "                                            costs_per_ctp=0,\n",
    "                                            multiply_ctp_costs = 0,\n",
    "                                            miss_percentage = [0],\n",
    "                                            WTP=80000)"
   ]
  },
  {
   "cell_type": "code",
   "execution_count": 6,
   "metadata": {},
   "outputs": [
    {
     "name": "stderr",
     "output_type": "stream",
     "text": [
      "100%|████████████████████████████████████████████████████████████████████████████████| 705/705 [00:07<00:00, 94.48it/s]\n"
     ]
    }
   ],
   "source": [
    "#baseline simulations\n",
    "#Sim.verbal = True\n",
    "totals_res, extend_res = simulate_IDs(df.index,df,Sim)\n",
    "#add clinical basline info for plots\n",
    "totals_res = pd.concat([totals_res,BL],axis=1)\n",
    "#aggr contains average results in NMB, ICER, d_costs,d_qalys\n",
    "# of the cohort per different decision threshold\n",
    "out,aggr = cohort_outcome(totals_res,\n",
    "                        thresholds=np.arange(0,151,10), \n",
    "                        costs_per_ctp=0, #used for miss rate sim\n",
    "                        multiply_ctp_costs = 0,#used for miss rate sim -->perform only on M2\n",
    "                        miss_percentage = [0],#used for miss rate sim\n",
    "                        WTP=80000)\n",
    "#totals_res.to_excel(os.path.join(root_sav,'Baseline','results.xlsx'))\n",
    "#extend_res.to_excel(os.path.join(root_sav,'Baseline','simulation_output.xlsx'))\n",
    "\n",
    "#probabilistic standard simulation --> not required since included in OR shift analyses (shift=0)\n",
    "#extract per patient,strategy, and simulation the results\n",
    "totals_res, extend_res = probabilistic_simulation(Sim,df,10,100)\n",
    "#compute difference between arms (PSA computes cohort outcomes per simulation)\n",
    "outs, aggrs = probabilistic_cohort_outcomes(totals_res,\n",
    "                                            bl_dct,\n",
    "                                            thresholds=np.arange(0,151,10),\n",
    "                                            costs_per_ctp=0,\n",
    "                                            multiply_ctp_costs = 0,\n",
    "                                            miss_percentage = [0],\n",
    "                                            WTP=80000)"
   ]
  },
  {
   "cell_type": "code",
   "execution_count": 11,
   "metadata": {},
   "outputs": [
    {
     "name": "stderr",
     "output_type": "stream",
     "text": [
      "100%|██████████████████████████████████████████████████████████████████████████████████| 10/10 [00:09<00:00,  1.01it/s]\n",
      "100%|██████████████████████████████████████████████████████████████████████████████████| 10/10 [00:01<00:00,  4.98it/s]\n"
     ]
    }
   ],
   "source": []
  },
  {
   "cell_type": "code",
   "execution_count": 18,
   "metadata": {},
   "outputs": [
    {
     "data": {
      "text/plain": [
       "'(70, 80]'"
      ]
     },
     "execution_count": 18,
     "metadata": {},
     "output_type": "execute_result"
    }
   ],
   "source": [
    "#probabilistic subgroup analyses\n",
    "sgroup_res = subgroup_psa(df,\n",
    "             col_subgroup,\n",
    "             Sim,\n",
    "             N_resamples,\n",
    "             N_patients_per_cohort,\n",
    "             thresholds=np.arange(0,151,10),\n",
    "             costs_per_ctp=0,\n",
    "             multiply_ctp_costs=0,\n",
    "             miss_percentage=[0],\n",
    "             seed=21)"
   ]
  },
  {
   "cell_type": "code",
   "execution_count": 19,
   "metadata": {},
   "outputs": [],
   "source": []
  },
  {
   "cell_type": "code",
   "execution_count": 27,
   "metadata": {},
   "outputs": [
    {
     "data": {
      "text/plain": [
       "296.3510013894528"
      ]
     },
     "execution_count": 27,
     "metadata": {},
     "output_type": "execute_result"
    }
   ],
   "source": [
    "Sim.C.costs_CTP"
   ]
  },
  {
   "cell_type": "code",
   "execution_count": null,
   "metadata": {},
   "outputs": [],
   "source": [
    "def probabilistic_cohort_outcomes(df_psa, \n",
    "                                bl_dct,\n",
    "                               thresholds=np.arange(0,151,10),\n",
    "                               costs_per_ctp=0,\n",
    "                               multiply_ctp_costs = 0,\n",
    "                               miss_percentage = [0],\n",
    "                               WTP = 80000):\n",
    "    \n",
    "    #cohort_outcome_per_threshold for PSA simulations\n",
    "    #df_res: per ID per simulation, \n",
    "    # costs and qalys (columns) for each strategy (in rows) \n",
    "    #bl-dct: should contain key=ID value=core_vol\n",
    "    #WTP is used for NMB calculations\n",
    "    #computes the outcomes per core_volume threshold per cohort average\n",
    "    outs, aggrs = [],[]\n",
    "    for simno in df_psa['simno'].unique():\n",
    "        df_res = totals_res[df_psa['simno']==simno]\n",
    "        df_res['core_vol'] = [bl_dct[ID]['core_vol'] for ID in df_res.index]\n",
    "        df_res = df_res.reset_index(drop=True)\n",
    "        #compute cohort results separately\n",
    "        out,aggr = cohort_outcome(df_res,\n",
    "                                thresholds=thresholds, \n",
    "                                costs_per_ctp=costs_per_ctp,\n",
    "                                multiply_ctp_costs=multiply_ctp_costs,\n",
    "                                miss_percentage=miss_percentage,\n",
    "                                WTP=WTP)\n",
    "        aggr['simno'] = simno\n",
    "        outs.append(out)\n",
    "        aggrs.append(aggr)\n",
    "        \n",
    "    outs = pd.concat(outs)\n",
    "    aggrs = pd.concat(aggrs)\n",
    "    aggrs = aggrs.reset_index(drop=True)\n",
    "    return outs, aggrs"
   ]
  },
  {
   "cell_type": "code",
   "execution_count": 31,
   "metadata": {},
   "outputs": [
    {
     "data": {
      "text/html": [
       "<div>\n",
       "<style scoped>\n",
       "    .dataframe tbody tr th:only-of-type {\n",
       "        vertical-align: middle;\n",
       "    }\n",
       "\n",
       "    .dataframe tbody tr th {\n",
       "        vertical-align: top;\n",
       "    }\n",
       "\n",
       "    .dataframe thead th {\n",
       "        text-align: right;\n",
       "    }\n",
       "</style>\n",
       "<table border=\"1\" class=\"dataframe\">\n",
       "  <thead>\n",
       "    <tr style=\"text-align: right;\">\n",
       "      <th></th>\n",
       "      <th>HR_mort_mrs</th>\n",
       "    </tr>\n",
       "  </thead>\n",
       "  <tbody>\n",
       "    <tr>\n",
       "      <th>0</th>\n",
       "      <td>1</td>\n",
       "    </tr>\n",
       "    <tr>\n",
       "      <th>1</th>\n",
       "      <td>2</td>\n",
       "    </tr>\n",
       "    <tr>\n",
       "      <th>2</th>\n",
       "      <td>3</td>\n",
       "    </tr>\n",
       "    <tr>\n",
       "      <th>3</th>\n",
       "      <td>4</td>\n",
       "    </tr>\n",
       "    <tr>\n",
       "      <th>4</th>\n",
       "      <td>5</td>\n",
       "    </tr>\n",
       "    <tr>\n",
       "      <th>5</th>\n",
       "      <td>6</td>\n",
       "    </tr>\n",
       "  </tbody>\n",
       "</table>\n",
       "</div>"
      ],
      "text/plain": [
       "   HR_mort_mrs\n",
       "0            1\n",
       "1            2\n",
       "2            3\n",
       "3            4\n",
       "4            5\n",
       "5            6"
      ]
     },
     "execution_count": 31,
     "metadata": {},
     "output_type": "execute_result"
    }
   ],
   "source": [
    "pd.DataFrame([1,2,3,4,5,6],columns=['HR_mort_mrs'])"
   ]
  },
  {
   "cell_type": "code",
   "execution_count": null,
   "metadata": {},
   "outputs": [],
   "source": []
  },
  {
   "cell_type": "code",
   "execution_count": 36,
   "metadata": {},
   "outputs": [
    {
     "name": "stdout",
     "output_type": "stream",
     "text": [
      "N tot: 705\n",
      "N and p corevol>50: 105 0.149\n",
      "N and p corevol>70: 70 0.099\n",
      "N and p corevol>100: 27 0.038\n"
     ]
    },
    {
     "data": {
      "image/png": "[encoded data removed]",
      "text/plain": [
       "<Figure size 432x288 with 1 Axes>"
      ]
     },
     "metadata": {
      "needs_background": "light"
     },
     "output_type": "display_data"
    },
    {
     "data": {
      "image/png": "[encoded data removed]",
      "text/plain": [
       "<Figure size 432x288 with 1 Axes>"
      ]
     },
     "metadata": {
      "needs_background": "light"
     },
     "output_type": "display_data"
    }
   ],
   "source": [
    "floc = r'E:\\CLEOPATRA\\figures_june'\n",
    "n_tot = df.shape[0]\n",
    "n50, n70, n100 = (df.core_vol>50).sum(), (df.core_vol>70).sum(),(df.core_vol>100).sum()\n",
    "print('N tot:',df.shape[0])\n",
    "print('N and p corevol>50:',n50, round(n50/n_tot,3))\n",
    "print('N and p corevol>70:',n70, round(n70/n_tot,3))\n",
    "print('N and p corevol>100:',n100, round(n100/n_tot,3))\n",
    "\n",
    "#figures\n",
    "sns.distplot(df.core_vol, kde=False)\n",
    "plt.title('Distribution of all patients')\n",
    "plt.ylabel('N-patients')\n",
    "plt.xlabel('Ischemic core volume (mL)')\n",
    "plt.savefig(os.path.join(floc,'dist_tot.png'))\n",
    "plt.show()\n",
    "\n",
    "sns.distplot(df.core_vol[df.core_vol>50], kde=False)\n",
    "plt.title('Distribution of patients with core volume>50mL')\n",
    "plt.ylabel('N-patients')\n",
    "plt.xlabel('Ischemic core volume (mL)')\n",
    "plt.savefig(os.path.join(floc,'dist50.png'))\n",
    "plt.show()\n"
   ]
  },
  {
   "cell_type": "code",
   "execution_count": null,
   "metadata": {},
   "outputs": [],
   "source": []
  },
  {
   "cell_type": "code",
   "execution_count": null,
   "metadata": {},
   "outputs": [],
   "source": []
  }
 ],
 "metadata": {
  "kernelspec": {
   "display_name": "Python 3",
   "language": "python",
   "name": "python3"
  },
  "language_info": {
   "codemirror_mode": {
    "name": "ipython",
    "version": 3
   },
   "file_extension": ".py",
   "mimetype": "text/x-python",
   "name": "python",
   "nbconvert_exporter": "python",
   "pygments_lexer": "ipython3",
   "version": "3.6.8"
  }
 },
 "nbformat": 4,
 "nbformat_minor": 2
}
